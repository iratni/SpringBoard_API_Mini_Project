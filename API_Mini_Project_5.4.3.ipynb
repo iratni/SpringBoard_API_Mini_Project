{
 "cells": [
  {
   "cell_type": "markdown",
   "metadata": {},
   "source": [
    "# 1. Collect data from the Franfurt Stock Exchange, for the ticker AFX_X, for the whole year 2017 (keep in mind that the date format is YYYY-MM-DD).\n",
    "# 2. Convert the returned JSON object into a Python dictionary."
   ]
  },
  {
   "cell_type": "code",
   "execution_count": 64,
   "metadata": {
    "scrolled": false
   },
   "outputs": [
    {
     "name": "stdout",
     "output_type": "stream",
     "text": [
      "<class 'dict'>\n"
     ]
    }
   ],
   "source": [
    "#Importing Packages\n",
    "import json\n",
    "import requests\n",
    "import re\n",
    "import operator\n",
    "import numpy as np\n",
    "\n",
    "api_key = 'XXXXXXXXXXXXXXXXXXXXXXXXXXXXXXX'\n",
    "Link = 'https://www.quandl.com/api/v3/datasets/WIKI/FB/data.json?api_key='+api_key\n",
    "r = requests.get(Link)\n",
    "json_data = r.json()\n",
    "print(type(json_data))\n",
    "\n"
   ]
  },
  {
   "cell_type": "code",
   "execution_count": 76,
   "metadata": {},
   "outputs": [
    {
     "name": "stdout",
     "output_type": "stream",
     "text": [
      "<class 'dict'>\n"
     ]
    }
   ],
   "source": [
    "#Getting 2017 data\n",
    "Link_2017 = 'https://www.quandl.com/api/v3/datasets/FSE/AFX_X.json?' + '&start_date=2017-01-01&end_date=2017-12-31&api_key=' + api_key\n",
    "r_2017 = requests.get(Link_2017)\n",
    "json_data_2017 = r_2017.json()\n",
    "print(type(json_data_2017))"
   ]
  },
  {
   "cell_type": "code",
   "execution_count": 77,
   "metadata": {},
   "outputs": [
    {
     "name": "stdout",
     "output_type": "stream",
     "text": [
      "dict_keys(['dataset'])\n"
     ]
    }
   ],
   "source": [
    "print(json_data_2017.keys())"
   ]
  },
  {
   "cell_type": "code",
   "execution_count": 78,
   "metadata": {
    "scrolled": false
   },
   "outputs": [
    {
     "name": "stdout",
     "output_type": "stream",
     "text": [
      "<class 'dict'>\n"
     ]
    }
   ],
   "source": [
    "print(type(json_data_2017['dataset']))"
   ]
  },
  {
   "cell_type": "code",
   "execution_count": 79,
   "metadata": {},
   "outputs": [
    {
     "name": "stdout",
     "output_type": "stream",
     "text": [
      "dict_keys(['id', 'dataset_code', 'database_code', 'name', 'description', 'refreshed_at', 'newest_available_date', 'oldest_available_date', 'column_names', 'frequency', 'type', 'premium', 'limit', 'transform', 'column_index', 'start_date', 'end_date', 'data', 'collapse', 'order', 'database_id'])\n"
     ]
    }
   ],
   "source": [
    "print(json_data_2017['dataset'].keys())"
   ]
  },
  {
   "cell_type": "code",
   "execution_count": 80,
   "metadata": {
    "scrolled": true
   },
   "outputs": [
    {
     "name": "stdout",
     "output_type": "stream",
     "text": [
      "['Date', 'Open', 'High', 'Low', 'Close', 'Change', 'Traded Volume', 'Turnover', 'Last Price of the Day', 'Daily Traded Units', 'Daily Turnover']\n"
     ]
    }
   ],
   "source": [
    "print(json_data_2017['dataset']['column_names'])"
   ]
  },
  {
   "cell_type": "code",
   "execution_count": 81,
   "metadata": {},
   "outputs": [
    {
     "name": "stdout",
     "output_type": "stream",
     "text": [
      "<class 'list'>\n"
     ]
    }
   ],
   "source": [
    "print(type(json_data_2017['dataset']['data']))"
   ]
  },
  {
   "cell_type": "code",
   "execution_count": 108,
   "metadata": {
    "scrolled": true
   },
   "outputs": [
    {
     "name": "stdout",
     "output_type": "stream",
     "text": [
      "255\n",
      "['2017-12-29', 51.76, 51.94, 51.45, 51.76, None, 34640.0, 1792304.0, None, None, None]\n",
      "['2017-01-02', 34.99, 35.94, 34.99, 35.8, None, 44700.0, 1590561.0, None, None, None]\n"
     ]
    }
   ],
   "source": [
    "data_2017 = json_data_2017['dataset']['data']\n",
    "print(len(data_2017))\n",
    "print(data_2017[0])\n",
    "print(data_2017[-1])"
   ]
  },
  {
   "cell_type": "markdown",
   "metadata": {},
   "source": [
    "# 3. Calculate what the highest and lowest opening prices were for the stock in this period."
   ]
  },
  {
   "cell_type": "code",
   "execution_count": 109,
   "metadata": {
    "scrolled": true
   },
   "outputs": [
    {
     "name": "stdout",
     "output_type": "stream",
     "text": [
      "The Maximum Open Price is: 53.11\n",
      "The Minimum Open Price is: 34.0\n"
     ]
    }
   ],
   "source": [
    "#Using This Instead of the For Loop Should Have The Exact Same Output:\n",
    "#Open = [item[1] for item in data_2017 if item[1] != None]\n",
    "Open = []\n",
    "for item in data_2017:\n",
    "    if item[1] != None:\n",
    "        Open.append(float(item[1]))\n",
    "\n",
    "print(\"The Maximum Open Price is: \" + str(max(Open)))\n",
    "print(\"The Minimum Open Price is: \" + str(min(Open)))\n",
    "\n"
   ]
  },
  {
   "cell_type": "markdown",
   "metadata": {},
   "source": [
    "# 4. What was the largest change in any one day (based on High and Low price)?"
   ]
  },
  {
   "cell_type": "code",
   "execution_count": 149,
   "metadata": {},
   "outputs": [
    {
     "name": "stdout",
     "output_type": "stream",
     "text": [
      "The Largest Change in Any One Day (Based on High and Low price) is: 2.8100000000000023\n"
     ]
    }
   ],
   "source": [
    "Large_diff_1Day = [item[2]-item[3] for item in data_2017]\n",
    "print(\"The Largest Change in Any One Day (Based on High and Low price) is: \" + str(max(Large_diff_1Day)))"
   ]
  },
  {
   "cell_type": "markdown",
   "metadata": {},
   "source": [
    "# 5. What was the largest change between any two days (based on Closing Price)?"
   ]
  },
  {
   "cell_type": "code",
   "execution_count": 150,
   "metadata": {},
   "outputs": [
    {
     "name": "stdout",
     "output_type": "stream",
     "text": [
      "The Largest Change Between Any Two Days (Based on Closing Price) is: 2.559999999999995\n"
     ]
    }
   ],
   "source": [
    "Close = [item[4] for item in data_2017 if item[4] != None]\n",
    "Diff_Close = []\n",
    "for i in range(len(Close)-1):\n",
    "    Diff_Close.append(abs(Close[i]-Close[i+1]))\n",
    "\n",
    "print(\"The Largest Change Between Any Two Days (Based on Closing Price) is: \" + str(max(Diff_Close))) "
   ]
  },
  {
   "cell_type": "markdown",
   "metadata": {},
   "source": [
    "# 6. What was the average daily trading volume during this year?"
   ]
  },
  {
   "cell_type": "code",
   "execution_count": 128,
   "metadata": {},
   "outputs": [
    {
     "name": "stdout",
     "output_type": "stream",
     "text": [
      "The Average Trading Volume In 2017 is : 89124.33725490196\n"
     ]
    }
   ],
   "source": [
    "import statistics \n",
    "Trade_Vol = [item[6] for item in data_2017]\n",
    "print(\"The Average Trading Volume In 2017 is : \" + str(statistics.mean(Trade_Vol)))"
   ]
  },
  {
   "cell_type": "code",
   "execution_count": 131,
   "metadata": {
    "scrolled": true
   },
   "outputs": [
    {
     "name": "stdout",
     "output_type": "stream",
     "text": [
      "The Average Trading Volume In 2017 is : 89124.33725490196\n"
     ]
    }
   ],
   "source": [
    "#We can also not to use Statistic and simply do:\n",
    "print(\"The Average Trading Volume In 2017 is : \" + str(sum(Trade_Vol)/len(Trade_Vol)))"
   ]
  },
  {
   "cell_type": "markdown",
   "metadata": {},
   "source": [
    "# 7. (Optional) What was the median trading volume during this year. (Note: you may need to implement your own function for calculating the median.)"
   ]
  },
  {
   "cell_type": "code",
   "execution_count": 133,
   "metadata": {},
   "outputs": [
    {
     "name": "stdout",
     "output_type": "stream",
     "text": [
      "The Median Trading Volume In 2017 is : 76286.0\n"
     ]
    }
   ],
   "source": [
    "print(\"The Median Trading Volume In 2017 is : \" + str(statistics.median(Trade_Vol)))"
   ]
  },
  {
   "cell_type": "code",
   "execution_count": 148,
   "metadata": {},
   "outputs": [
    {
     "name": "stdout",
     "output_type": "stream",
     "text": [
      "The Median Trading Volume In 2017 is : 76286.0\n"
     ]
    }
   ],
   "source": [
    "#We can also not to use Statistic and write a median function:\n",
    "def fuc_median(list_values):\n",
    "    S_list_values = sorted(list_values, reverse= False)\n",
    "    if len(S_list_values) % 2 == 0:\n",
    "        Trad_Med = (S_list_values[len(S_list_values)/2]+S_list_values[(len(S_list_values)/2)-1])/2\n",
    "    else:\n",
    "        Trad_Med = S_list_values[len(S_list_values)//2]\n",
    "    return Trad_Med\n",
    "\n",
    "print(\"The Median Trading Volume In 2017 is : \" + str(fuc_median(Trade_Vol))) "
   ]
  },
  {
   "cell_type": "code",
   "execution_count": null,
   "metadata": {},
   "outputs": [],
   "source": []
  }
 ],
 "metadata": {
  "kernelspec": {
   "display_name": "Python 3",
   "language": "python",
   "name": "python3"
  },
  "language_info": {
   "codemirror_mode": {
    "name": "ipython",
    "version": 3
   },
   "file_extension": ".py",
   "mimetype": "text/x-python",
   "name": "python",
   "nbconvert_exporter": "python",
   "pygments_lexer": "ipython3",
   "version": "3.7.3"
  }
 },
 "nbformat": 4,
 "nbformat_minor": 2
}
